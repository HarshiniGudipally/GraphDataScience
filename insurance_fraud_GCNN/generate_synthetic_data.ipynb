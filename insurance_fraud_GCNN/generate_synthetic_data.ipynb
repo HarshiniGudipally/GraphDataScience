{
 "cells": [
  {
   "cell_type": "code",
   "execution_count": 1,
   "metadata": {},
   "outputs": [
    {
     "name": "stdout",
     "output_type": "stream",
     "text": [
      "CSV files have been generated: synthetic_transactions.csv and synthetic_identity.csv\n"
     ]
    }
   ],
   "source": [
    "import pandas as pd\n",
    "import numpy as np\n",
    "from datetime import datetime, timedelta\n",
    "\n",
    "# Generate synthetic transactions data\n",
    "def generate_transactions(num_transactions=1000):\n",
    "    np.random.seed(42)\n",
    "    \n",
    "    transactions = {\n",
    "        'TransactionID': range(1, num_transactions + 1),\n",
    "        'ProductCD': np.random.choice(['ProductA', 'ProductB', 'ProductC', 'ProductD'], num_transactions),\n",
    "        'TransactionAmt': np.random.uniform(10, 1000, num_transactions).round(2),\n",
    "        'card_no': [f'{np.random.randint(1000, 9999):04d}XXXX{np.random.randint(1000, 9999):04d}' for _ in range(num_transactions)],\n",
    "        'card_type': np.random.choice(['Visa', 'Mastercard', 'Amex'], num_transactions),\n",
    "        'isFraud': np.random.choice([0, 1], num_transactions, p=[0.99, 0.01])  # 1% fraud rate\n",
    "    }\n",
    "    \n",
    "    return pd.DataFrame(transactions)\n",
    "\n",
    "# Generate synthetic identity data\n",
    "def generate_identity(num_transactions=1000):\n",
    "    np.random.seed(42)\n",
    "    \n",
    "    identity = {\n",
    "        'TransactionID': range(1, num_transactions + 1),\n",
    "        'email_domain': np.random.choice(['gmail.com', 'yahoo.com', 'hotmail.com', 'outlook.com'], num_transactions),\n",
    "        'IpAddress': [f'{np.random.randint(1, 255)}.{np.random.randint(1, 255)}.{np.random.randint(1, 255)}.{np.random.randint(1, 255)}' for _ in range(num_transactions)],\n",
    "        'PhoneNo': [f'{np.random.randint(100, 999)}-{np.random.randint(100, 999)}-{np.random.randint(1000, 9999)}' for _ in range(num_transactions)],\n",
    "        'DeviceID': [f'Device{np.random.randint(1000, 9999)}' for _ in range(num_transactions)]\n",
    "    }\n",
    "    \n",
    "    return pd.DataFrame(identity)\n",
    "\n",
    "# Generate the datasets\n",
    "transactions_df = generate_transactions(1000)\n",
    "identity_df = generate_identity(1000)\n",
    "\n",
    "# Save to CSV\n",
    "transactions_df.to_csv('synthetic_transactions.csv', index=False)\n",
    "identity_df.to_csv('synthetic_identity.csv', index=False)\n",
    "\n",
    "print(\"CSV files have been generated: synthetic_transactions.csv and synthetic_identity.csv\")\n"
   ]
  }
 ],
 "metadata": {
  "kernelspec": {
   "display_name": "base",
   "language": "python",
   "name": "python3"
  },
  "language_info": {
   "codemirror_mode": {
    "name": "ipython",
    "version": 3
   },
   "file_extension": ".py",
   "mimetype": "text/x-python",
   "name": "python",
   "nbconvert_exporter": "python",
   "pygments_lexer": "ipython3",
   "version": "3.12.2"
  }
 },
 "nbformat": 4,
 "nbformat_minor": 2
}
