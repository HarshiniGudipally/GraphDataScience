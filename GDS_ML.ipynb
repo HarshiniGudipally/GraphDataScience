{
 "cells": [
  {
   "cell_type": "markdown",
   "metadata": {},
   "source": [
    "# Step 1: \n",
    "### Set up the environment\n",
    "### Install Neo4j Desktop (https://neo4j.com/download/)\n",
    "### Create a new project and database in Neo4j Desktop\n",
    "# Install Python and required libraries:"
   ]
  },
  {
   "cell_type": "code",
   "execution_count": 2,
   "metadata": {},
   "outputs": [
    {
     "name": "stdout",
     "output_type": "stream",
     "text": [
      "Requirement already satisfied: pandas in c:\\users\\harsh\\miniconda3\\lib\\site-packages (2.2.3)\n",
      "Requirement already satisfied: neo4j in c:\\users\\harsh\\miniconda3\\lib\\site-packages (5.26.0)\n",
      "Requirement already satisfied: scikit-learn in c:\\users\\harsh\\miniconda3\\lib\\site-packages (1.5.2)\n",
      "Requirement already satisfied: matplotlib in c:\\users\\harsh\\miniconda3\\lib\\site-packages (3.9.2)\n",
      "Collecting seaborn\n",
      "  Downloading seaborn-0.13.2-py3-none-any.whl.metadata (5.4 kB)\n",
      "Requirement already satisfied: numpy>=1.26.0 in c:\\users\\harsh\\miniconda3\\lib\\site-packages (from pandas) (2.1.3)\n",
      "Requirement already satisfied: python-dateutil>=2.8.2 in c:\\users\\harsh\\miniconda3\\lib\\site-packages (from pandas) (2.9.0)\n",
      "Requirement already satisfied: pytz>=2020.1 in c:\\users\\harsh\\miniconda3\\lib\\site-packages (from pandas) (2024.2)\n",
      "Requirement already satisfied: tzdata>=2022.7 in c:\\users\\harsh\\miniconda3\\lib\\site-packages (from pandas) (2024.2)\n",
      "Requirement already satisfied: scipy>=1.6.0 in c:\\users\\harsh\\miniconda3\\lib\\site-packages (from scikit-learn) (1.14.1)\n",
      "Requirement already satisfied: joblib>=1.2.0 in c:\\users\\harsh\\miniconda3\\lib\\site-packages (from scikit-learn) (1.4.2)\n",
      "Requirement already satisfied: threadpoolctl>=3.1.0 in c:\\users\\harsh\\miniconda3\\lib\\site-packages (from scikit-learn) (3.5.0)\n",
      "Requirement already satisfied: contourpy>=1.0.1 in c:\\users\\harsh\\miniconda3\\lib\\site-packages (from matplotlib) (1.3.0)\n",
      "Requirement already satisfied: cycler>=0.10 in c:\\users\\harsh\\miniconda3\\lib\\site-packages (from matplotlib) (0.12.1)\n",
      "Requirement already satisfied: fonttools>=4.22.0 in c:\\users\\harsh\\miniconda3\\lib\\site-packages (from matplotlib) (4.54.1)\n",
      "Requirement already satisfied: kiwisolver>=1.3.1 in c:\\users\\harsh\\miniconda3\\lib\\site-packages (from matplotlib) (1.4.7)\n",
      "Requirement already satisfied: packaging>=20.0 in c:\\users\\harsh\\miniconda3\\lib\\site-packages (from matplotlib) (23.2)\n",
      "Requirement already satisfied: pillow>=8 in c:\\users\\harsh\\miniconda3\\lib\\site-packages (from matplotlib) (11.0.0)\n",
      "Requirement already satisfied: pyparsing>=2.3.1 in c:\\users\\harsh\\miniconda3\\lib\\site-packages (from matplotlib) (3.2.0)\n",
      "Requirement already satisfied: six>=1.5 in c:\\users\\harsh\\miniconda3\\lib\\site-packages (from python-dateutil>=2.8.2->pandas) (1.16.0)\n",
      "Downloading seaborn-0.13.2-py3-none-any.whl (294 kB)\n",
      "   ---------------------------------------- 0.0/294.9 kB ? eta -:--:--\n",
      "   ---- ----------------------------------- 30.7/294.9 kB 1.3 MB/s eta 0:00:01\n",
      "   ---------------------- ----------------- 163.8/294.9 kB 2.4 MB/s eta 0:00:01\n",
      "   ---------------------------------------- 294.9/294.9 kB 3.0 MB/s eta 0:00:00\n",
      "Installing collected packages: seaborn\n",
      "Successfully installed seaborn-0.13.2\n"
     ]
    }
   ],
   "source": [
    "!pip install pandas neo4j scikit-learn matplotlib seaborn"
   ]
  },
  {
   "cell_type": "markdown",
   "metadata": {},
   "source": [
    "# Step2\n",
    "## Data Ingestion - Run this cell to ingest the data into Neo4j."
   ]
  },
  {
   "cell_type": "code",
   "execution_count": 3,
   "metadata": {},
   "outputs": [],
   "source": [
    "from neo4j import GraphDatabase\n",
    "import pandas as pd\n",
    "\n",
    "uri = \"bolt://localhost:7687\"\n",
    "username = \"neo4j\"\n",
    "password = \"Dairymilk@123\"  # Replace with your actual password\n",
    "\n",
    "driver = GraphDatabase.driver(uri, auth=(username, password))\n",
    "\n",
    "def create_graph(tx, row):\n",
    "    tx.run(\"\"\"\n",
    "    MERGE (c:Customer {id: $customer_id})\n",
    "    MERGE (m:Merchant {id: $merchant_id})\n",
    "    CREATE (t:Transaction {\n",
    "        id: $transaction_id,\n",
    "        date: date($date),\n",
    "        amount: $amount,\n",
    "        is_fraud: $is_fraud\n",
    "    })\n",
    "    CREATE (c)-[:MADE]->(t)\n",
    "    CREATE (t)-[:AT]->(m)\n",
    "    \"\"\", row.to_dict())\n",
    "\n",
    "df = pd.read_csv('transactions.csv')\n",
    "\n",
    "with driver.session() as session:\n",
    "    for _, row in df.iterrows():\n",
    "        session.execute_write(create_graph, row)\n",
    "\n",
    "driver.close()"
   ]
  },
  {
   "cell_type": "markdown",
   "metadata": {},
   "source": [
    "# Step3 \n",
    "## Explore and Visualize the Data - Use Neo4j Browser to explore the data:\n",
    "    MATCH (c:Customer)-[:MADE]->(t:Transaction)-[:AT]->(m:Merchant)\n",
    "    RETURN c, t, m\n",
    "    LIMIT 100"
   ]
  },
  {
   "cell_type": "markdown",
   "metadata": {},
   "source": [
    "# Step 4\n",
    "## Feature Engineering - Run this cell to add features to the graph."
   ]
  },
  {
   "cell_type": "code",
   "execution_count": 5,
   "metadata": {},
   "outputs": [],
   "source": [
    "from neo4j import GraphDatabase\n",
    "\n",
    "uri = \"bolt://localhost:7687\"\n",
    "username = \"neo4j\"\n",
    "password = \"Dairymilk@123\"  # Replace with your actual password\n",
    "\n",
    "driver = GraphDatabase.driver(uri, auth=(username, password))\n",
    "\n",
    "def add_features(tx):\n",
    "    tx.run(\"\"\"\n",
    "    MATCH (c:Customer)-[:MADE]->(t:Transaction)\n",
    "    WITH c, count(t) AS transaction_count, sum(t.amount) AS total_amount\n",
    "    SET c.transaction_count = transaction_count,\n",
    "        c.total_amount = total_amount,\n",
    "        c.avg_transaction_amount = total_amount / transaction_count\n",
    "    \"\"\")\n",
    "\n",
    "    tx.run(\"\"\"\n",
    "    MATCH (m:Merchant)<-[:AT]-(t:Transaction)\n",
    "    WITH m, count(t) AS transaction_count, sum(t.amount) AS total_amount\n",
    "    SET m.transaction_count = transaction_count,\n",
    "        m.total_amount = total_amount,\n",
    "        m.avg_transaction_amount = total_amount / transaction_count\n",
    "    \"\"\")\n",
    "\n",
    "with driver.session() as session:\n",
    "    session.execute_write(add_features)\n",
    "\n",
    "driver.close()"
   ]
  },
  {
   "cell_type": "markdown",
   "metadata": {},
   "source": [
    "# Step 5\n",
    "## Prepare Data for Machine Learning"
   ]
  },
  {
   "cell_type": "code",
   "execution_count": 6,
   "metadata": {},
   "outputs": [],
   "source": [
    "from neo4j import GraphDatabase\n",
    "import pandas as pd\n",
    "from sklearn.model_selection import train_test_split\n",
    "from sklearn.preprocessing import StandardScaler\n",
    "\n",
    "uri = \"bolt://localhost:7687\"\n",
    "username = \"neo4j\"\n",
    "password = \"Dairymilk@123\"  # Replace with your actual password\n",
    "\n",
    "driver = GraphDatabase.driver(uri, auth=(username, password))\n",
    "\n",
    "def get_ml_data(tx):\n",
    "    result = tx.run(\"\"\"\n",
    "    MATCH (c:Customer)-[:MADE]->(t:Transaction)-[:AT]->(m:Merchant)\n",
    "    RETURN t.id AS transaction_id,\n",
    "           t.amount AS amount,\n",
    "           c.transaction_count AS customer_transaction_count,\n",
    "           c.total_amount AS customer_total_amount,\n",
    "           c.avg_transaction_amount AS customer_avg_amount,\n",
    "           m.transaction_count AS merchant_transaction_count,\n",
    "           m.total_amount AS merchant_total_amount,\n",
    "           m.avg_transaction_amount AS merchant_avg_amount,\n",
    "           t.is_fraud AS is_fraud\n",
    "    \"\"\")\n",
    "    return pd.DataFrame([dict(record) for record in result])\n",
    "\n",
    "with driver.session() as session:\n",
    "    df = session.execute_read(get_ml_data)\n",
    "\n",
    "X = df.drop(['transaction_id', 'is_fraud'], axis=1)\n",
    "y = df['is_fraud']\n",
    "\n",
    "X_train, X_test, y_train, y_test = train_test_split(X, y, test_size=0.2, random_state=42)\n",
    "\n",
    "scaler = StandardScaler()\n",
    "X_train_scaled = scaler.fit_transform(X_train)\n",
    "X_test_scaled = scaler.transform(X_test)\n",
    "\n",
    "# Save the prepared data\n",
    "pd.DataFrame(X_train_scaled, columns=X.columns).to_csv('X_train.csv', index=False)\n",
    "pd.DataFrame(X_test_scaled, columns=X.columns).to_csv('X_test.csv', index=False)\n",
    "y_train.to_csv('y_train.csv', index=False)\n",
    "y_test.to_csv('y_test.csv', index=False)\n",
    "\n",
    "driver.close()"
   ]
  },
  {
   "cell_type": "markdown",
   "metadata": {},
   "source": [
    "# Step 6\n",
    "## Train and Evaluate the Model - Run this cell to train the model, evaluate it, and visualize the results."
   ]
  },
  {
   "cell_type": "code",
   "execution_count": 10,
   "metadata": {},
   "outputs": [
    {
     "name": "stdout",
     "output_type": "stream",
     "text": [
      "              precision    recall  f1-score   support\n",
      "\n",
      "           0       1.00      1.00      1.00        10\n",
      "           1       1.00      1.00      1.00         6\n",
      "\n",
      "    accuracy                           1.00        16\n",
      "   macro avg       1.00      1.00      1.00        16\n",
      "weighted avg       1.00      1.00      1.00        16\n",
      "\n"
     ]
    },
    {
     "data": {
      "image/png": "[encoded data removed]",
      "text/plain": [
       "<Figure size 1000x700 with 2 Axes>"
      ]
     },
     "metadata": {},
     "output_type": "display_data"
    },
    {
     "data": {
      "image/png": "[encoded data removed]",
      "text/plain": [
       "<Figure size 1000x700 with 1 Axes>"
      ]
     },
     "metadata": {},
     "output_type": "display_data"
    }
   ],
   "source": [
    "import pandas as pd\n",
    "from sklearn.ensemble import RandomForestClassifier\n",
    "from sklearn.metrics import classification_report, confusion_matrix\n",
    "import matplotlib.pyplot as plt\n",
    "import seaborn as sns\n",
    "import joblib\n",
    "\n",
    "# Load the prepared data\n",
    "X_train = pd.read_csv('X_train.csv')\n",
    "X_test = pd.read_csv('X_test.csv')\n",
    "y_train = pd.read_csv('y_train.csv').values.ravel()\n",
    "y_test = pd.read_csv('y_test.csv').values.ravel()\n",
    "\n",
    "# Train the model\n",
    "clf = RandomForestClassifier(random_state=42)\n",
    "clf.fit(X_train, y_train)\n",
    "\n",
    "# After training your model\n",
    "joblib.dump(clf, 'random_forest_model.joblib')\n",
    "joblib.dump(scaler, 'scaler.joblib')\n",
    "\n",
    "# Make predictions\n",
    "y_pred = clf.predict(X_test)\n",
    "\n",
    "# Print classification report\n",
    "print(classification_report(y_test, y_pred))\n",
    "\n",
    "# Plot confusion matrix\n",
    "cm = confusion_matrix(y_test, y_pred)\n",
    "plt.figure(figsize=(10,7))\n",
    "sns.heatmap(cm, annot=True, fmt='d')\n",
    "plt.title('Confusion Matrix')\n",
    "plt.ylabel('Actual')\n",
    "plt.xlabel('Predicted')\n",
    "plt.savefig('confusion_matrix.png')\n",
    "\n",
    "# Feature importance\n",
    "feature_importance = pd.DataFrame({\n",
    "    'feature': X_train.columns,\n",
    "    'importance': clf.feature_importances_\n",
    "}).sort_values('importance', ascending=False)\n",
    "\n",
    "plt.figure(figsize=(10,7))\n",
    "sns.barplot(x='importance', y='feature', data=feature_importance)\n",
    "plt.title('Feature Importance')\n",
    "plt.tight_layout()\n",
    "plt.savefig('feature_importance.png')"
   ]
  },
  {
   "cell_type": "markdown",
   "metadata": {},
   "source": [
    "# Step 7\n",
    "## Implement Real-time Fraud Detection - This cell provides a function to predict the fraud probability for new transactions.\n"
   ]
  },
  {
   "cell_type": "code",
   "execution_count": 12,
   "metadata": {},
   "outputs": [
    {
     "name": "stdout",
     "output_type": "stream",
     "text": [
      "0.38\n"
     ]
    },
    {
     "name": "stderr",
     "output_type": "stream",
     "text": [
      "c:\\Users\\harsh\\miniconda3\\Lib\\site-packages\\sklearn\\base.py:493: UserWarning: X does not have valid feature names, but StandardScaler was fitted with feature names\n",
      "  warnings.warn(\n",
      "c:\\Users\\harsh\\miniconda3\\Lib\\site-packages\\sklearn\\base.py:493: UserWarning: X does not have valid feature names, but RandomForestClassifier was fitted with feature names\n",
      "  warnings.warn(\n"
     ]
    }
   ],
   "source": [
    "from neo4j import GraphDatabase\n",
    "import pandas as pd\n",
    "from sklearn.ensemble import RandomForestClassifier\n",
    "from sklearn.preprocessing import StandardScaler\n",
    "import joblib\n",
    "\n",
    "uri = \"bolt://localhost:7687\"\n",
    "username = \"neo4j\"\n",
    "password = \"Dairymilk@123\"  # Replace with your actual password\n",
    "\n",
    "driver = GraphDatabase.driver(uri, auth=(username, password))\n",
    "\n",
    "# Load the trained model and scaler\n",
    "clf = joblib.load('random_forest_model.joblib')\n",
    "scaler = joblib.load('scaler.joblib')\n",
    "\n",
    "def get_transaction_features(tx, customer_id, merchant_id, amount):\n",
    "    result = tx.run(\"\"\"\n",
    "    MATCH (c:Customer {id: $customer_id})\n",
    "    MATCH (m:Merchant {id: $merchant_id})\n",
    "    RETURN c.transaction_count AS customer_transaction_count,\n",
    "           c.total_amount AS customer_total_amount,\n",
    "           c.avg_transaction_amount AS customer_avg_amount,\n",
    "           m.transaction_count AS merchant_transaction_count,\n",
    "           m.total_amount AS merchant_total_amount,\n",
    "           m.avg_transaction_amount AS merchant_avg_amount\n",
    "    \"\"\", customer_id=customer_id, merchant_id=merchant_id)\n",
    "    \n",
    "    record = result.single()\n",
    "    features = [amount] + list(record.values())\n",
    "    return features\n",
    "\n",
    "def predict_fraud(customer_id, merchant_id, amount):\n",
    "    with driver.session() as session:\n",
    "        features = session.execute_read(get_transaction_features, customer_id, merchant_id, amount)\n",
    "    \n",
    "    features_scaled = scaler.transform([features])\n",
    "    fraud_probability = clf.predict_proba(features_scaled)[0][1]\n",
    "    return fraud_probability\n",
    "\n",
    "# Example usage\n",
    "print(predict_fraud('C001', 'M001', 10000.00))\n",
    "\n",
    "driver.close()"
   ]
  },
  {
   "cell_type": "markdown",
   "metadata": {},
   "source": []
  },
  {
   "cell_type": "code",
   "execution_count": null,
   "metadata": {},
   "outputs": [],
   "source": []
  }
 ],
 "metadata": {
  "kernelspec": {
   "display_name": "base",
   "language": "python",
   "name": "python3"
  },
  "language_info": {
   "codemirror_mode": {
    "name": "ipython",
    "version": 3
   },
   "file_extension": ".py",
   "mimetype": "text/x-python",
   "name": "python",
   "nbconvert_exporter": "python",
   "pygments_lexer": "ipython3",
   "version": "3.12.2"
  }
 },
 "nbformat": 4,
 "nbformat_minor": 2
}
